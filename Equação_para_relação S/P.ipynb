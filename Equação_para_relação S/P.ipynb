{
  "nbformat": 4,
  "nbformat_minor": 0,
  "metadata": {
    "colab": {
      "name": "Untitled4.ipynb",
      "provenance": [],
      "authorship_tag": "ABX9TyOmRSVARc3NSU+oZTbJgqic",
      "include_colab_link": true
    },
    "kernelspec": {
      "name": "python3",
      "display_name": "Python 3"
    },
    "language_info": {
      "name": "python"
    }
  },
  "cells": [
    {
      "cell_type": "markdown",
      "metadata": {
        "id": "view-in-github",
        "colab_type": "text"
      },
      "source": [
        "<a href=\"https://colab.research.google.com/github/Marcozambeli/General/blob/main/Equa%C3%A7%C3%A3o_para_rela%C3%A7%C3%A3o%20S/P.ipynb\" target=\"_parent\"><img src=\"https://colab.research.google.com/assets/colab-badge.svg\" alt=\"Open In Colab\"/></a>"
      ]
    },
    {
      "cell_type": "markdown",
      "metadata": {
        "id": "HEpztprlC9Ya"
      },
      "source": [
        "**Equação de Obtenção da relação S/P de lâmpadas, baseado na TCC e IRC**\n",
        "\n",
        " Eq proveniente da tese de phd do prof Cristiano Gomes Gasagrande (UFJF) e aqui aplicada para aplicação em projetos de iluminação pública, com e sem a correção do fator de fotometria mesópica"
      ]
    },
    {
      "cell_type": "code",
      "metadata": {
        "colab": {
          "base_uri": "https://localhost:8080/"
        },
        "id": "4G6RS8JLDQsX",
        "outputId": "a7396bdb-29fd-40d5-eeed-ac41f0d7600c"
      },
      "source": [
        "TCC = 5000\n",
        "IRC = 75\n",
        "\n",
        "SP = (-1.886*10**(-8)*TCC**2) + (4.311*10**(-7)*TCC*IRC) + (6.43*10**(-5)*IRC**2) + (3.59*10**(-4)*TCC) + (1.247*10**(-3)*IRC) - 0.114\n",
        "\n",
        "SP\n",
        "#Equação validada com sucesso, chegou no mesmo resultado que a tese"
      ],
      "execution_count": 6,
      "outputs": [
        {
          "output_type": "execute_result",
          "data": {
            "text/plain": [
              "1.8263749999999999"
            ]
          },
          "metadata": {},
          "execution_count": 6
        }
      ]
    }
  ]
}