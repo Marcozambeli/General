{
  "nbformat": 4,
  "nbformat_minor": 0,
  "metadata": {
    "colab": {
      "name": "Pratica 8 lab de maquinas.ipynb",
      "provenance": [],
      "authorship_tag": "ABX9TyMcp6TwQdViF3anQWCNdwew",
      "include_colab_link": true
    },
    "kernelspec": {
      "name": "python3",
      "display_name": "Python 3"
    }
  },
  "cells": [
    {
      "cell_type": "markdown",
      "metadata": {
        "id": "view-in-github",
        "colab_type": "text"
      },
      "source": [
        "<a href=\"https://colab.research.google.com/github/Marcozambeli/General/blob/main/Pratica_8_lab_de_maquinas.ipynb\" target=\"_parent\"><img src=\"https://colab.research.google.com/assets/colab-badge.svg\" alt=\"Open In Colab\"/></a>"
      ]
    },
    {
      "cell_type": "code",
      "metadata": {
        "colab": {
          "base_uri": "https://localhost:8080/"
        },
        "id": "b5c3qyl7FAx6",
        "outputId": "30b5219c-f548-46bc-8d94-cfffd20114e7"
      },
      "source": [
        "Ra = 3.54 #valor fixo\n",
        "\n",
        "Vt = 171\n",
        "Ia = 0.68\n",
        "Nm = 2203\n",
        "\n",
        "#equacionamento\n",
        "Wm = (2*3.14159265359*Nm)/60\n",
        "Ea = Vt-(Ra*Ia)\n",
        "Pconv = Ea*Ia\n",
        "#respostas\n",
        "print(\"Wm-----------------Ea------Pconv\")\n",
        "print(Wm, Ea, Pconv)\n",
        "\n"
      ],
      "execution_count": 32,
      "outputs": [
        {
          "output_type": "stream",
          "text": [
            "Wm-----------------Ea------Pconv\n",
            "230.69762052862566 168.5928 114.64310400000002\n"
          ],
          "name": "stdout"
        }
      ]
    }
  ]
}