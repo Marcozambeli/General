{
  "nbformat": 4,
  "nbformat_minor": 0,
  "metadata": {
    "colab": {
      "name": "Exercicio 3 - Transmissao",
      "provenance": [],
      "authorship_tag": "ABX9TyNYgOT8KHpMWY7nS5S63rzM",
      "include_colab_link": true
    },
    "kernelspec": {
      "name": "python3",
      "display_name": "Python 3"
    }
  },
  "cells": [
    {
      "cell_type": "markdown",
      "metadata": {
        "id": "view-in-github",
        "colab_type": "text"
      },
      "source": [
        "<a href=\"https://colab.research.google.com/github/Marcozambeli/General/blob/main/Exercicio_3_Transmissao.ipynb\" target=\"_parent\"><img src=\"https://colab.research.google.com/assets/colab-badge.svg\" alt=\"Open In Colab\"/></a>"
      ]
    },
    {
      "cell_type": "markdown",
      "metadata": {
        "id": "pyhEBemMVIQt"
      },
      "source": [
        "#Exercício 3\n",
        "## Uma carga de 125MVA/215KV é alimentada através de uma LT\n",
        "## média de 100 km cujos parâmetros valem ZL = 194<79ºΩ e YL = j4e-5 Siemens.\n",
        "Marco Antonio de Oliveira Zambeli 201369026c\n",
        "\n",
        "\n",
        "\n"
      ]
    },
    {
      "cell_type": "markdown",
      "metadata": {
        "id": "6nN5I-n64Eap"
      },
      "source": [
        "A)Qual o fator de potência(fp) na carga e qual a potência reativa que deve ser injetada\n",
        "na carga para manter o perfil de tensão igual a 215 KV? VS = VR = 215KV, perfil\n",
        "horizontal de tensão."
      ]
    },
    {
      "cell_type": "code",
      "metadata": {
        "id": "2OmqHamuXzxo"
      },
      "source": [
        "!apt install octave"
      ],
      "execution_count": null,
      "outputs": []
    },
    {
      "cell_type": "code",
      "metadata": {
        "id": "vkVqedaqcNo8",
        "outputId": "152a4c6c-4cc3-4639-90d3-f781dba94c66",
        "colab": {
          "base_uri": "https://localhost:8080/",
          "height": 0
        }
      },
      "source": [
        "%%writefile add.m\n",
        "\n",
        "\n",
        "clc \n",
        "clear all \n",
        "\n",
        "S = 125e6; #VA\n",
        "VR = 215e3; #V\n",
        "L = 100;#km\n",
        "yl = i*4e-5;#Ω \n",
        "zl = 37 + i*190.4;#Ω  \n",
        "Vs = [];\n",
        "fp = []; \n",
        "%a) fp =? \n",
        "\n",
        "IR=S/(VR*sqrt(3));\n",
        "\n",
        "# Corrente Ir vai variar de acordo com o fator de potencia no intervalo (-0.9, 0.9)\n",
        "idx = 0; \n",
        "for x=25.84:0.01:154.16 #equivalente ao intervalo do fp\n",
        "idx = idx+1; \n",
        "[X,Y]= pol2cart(x,IR);\n",
        "Z = X + i*Y;\n",
        "VS_rec = ((zl*yl/2)+1)*VR+zl*Z; \n",
        "Vs = [Vs abs(VS_rec)];%módulo tensão Vs\n",
        "    fp =[fp cos(angle(Z))];\n",
        "    if Vs(idx) >= VR*0.999 && Vs(idx)<=VR*1.001&&fp(idx)>0\n",
        "        fp(idx)\n",
        "    end\n",
        "end\n",
        "\n",
        "\n",
        "figure \n",
        "plot(Vs(fp>0),fp(fp>0))\n",
        "title('fp x Vs (avancado)')\n",
        "xlabel('Vs')\n",
        "\n",
        "\n",
        "figure \n",
        "plot(Vs(fp<0),fp(fp<0))\n",
        "title('fp x Vs (atrasado)')\n",
        "xlabel('Vs')\n",
        "\n"
      ],
      "execution_count": 186,
      "outputs": [
        {
          "output_type": "stream",
          "text": [
            "Overwriting add.m\n"
          ],
          "name": "stdout"
        }
      ]
    },
    {
      "cell_type": "code",
      "metadata": {
        "id": "I9zsmrG_cRsj",
        "outputId": "7be9f4fb-f438-4555-b103-c15969965ca8",
        "colab": {
          "base_uri": "https://localhost:8080/",
          "height": 0
        }
      },
      "source": [
        "# -W : no window system\n",
        "!octave -W add.m"
      ],
      "execution_count": 187,
      "outputs": [
        {
          "output_type": "stream",
          "text": [
            "ans =  0.94471\n",
            "ans =  0.94575\n",
            "ans =  0.94457\n",
            "ans =  0.94561\n",
            "ans =  0.94442\n",
            "ans =  0.94547\n",
            "ans =  0.94428\n",
            "ans =  0.94532\n",
            "ans =  0.94413\n",
            "ans =  0.94518\n",
            "ans =  0.94621\n",
            "ans =  0.94503\n",
            "ans =  0.94607\n",
            "ans =  0.94489\n",
            "                                                                               \n",
            "                               fp x Vs (avancado)                              \n",
            "                                                                               \n",
            "   1 |---------------------------------------------------------------------|   \n",
            "     |         +         +         +    ******         +   ******+         |   \n",
            "     |                             ******                       ***        |   \n",
            " 0.8 |-+                        ****                              ***    +-|   \n",
            "     |                       ****                                   ***    |   \n",
            "     |                     ***                                        **   |   \n",
            "     |                  ****                                           **  |   \n",
            " 0.6 |-+              ***                                               **-|   \n",
            "     |              ***                                                  * |   \n",
            "     |             **                                                    **|   \n",
            " 0.4 |-+         ***                                                     +*|   \n",
            "     |          **                                                        *|   \n",
            "     |        ***                                                         *|   \n",
            "     |       **                                                            |   \n",
            " 0.2 |-+    **                                                           +-|   \n",
            "     |     **                                                              |   \n",
            "     |     *   +         +         +         +         +         +        *|   \n",
            "   0 |---------------------------------------------------------------------|   \n",
            "  140000    160000    180000    200000    220000    240000    260000    280000 \n",
            "                                       Vs                                      \n",
            "                                                                               \n"
          ],
          "name": "stdout"
        }
      ]
    },
    {
      "cell_type": "code",
      "metadata": {
        "id": "u_3pjKBl85VI",
        "outputId": "36ac220c-875c-4220-e065-cfbbe0476587",
        "colab": {
          "base_uri": "https://localhost:8080/",
          "height": 0
        }
      },
      "source": [
        "%%writefile add.m\n",
        "\n",
        "\n",
        "clc \n",
        "clear all \n",
        "\n",
        "S = 125e6; #VA\n",
        "VR = 215e3; #V\n",
        "L = 100;#km\n",
        "yl = i*4e-5;#Ω \n",
        "zl = 37 + i*190.4;#Ω  \n",
        "Vs = [];\n",
        "fp = []; \n",
        "%a) fp =? \n",
        "\n",
        "IR=S/(VR*sqrt(3));\n",
        "\n",
        "# Corrente Ir vai variar de acordo com o fator de potencia no intervalo (-0.9, 0.9)\n",
        "idx = 0; \n",
        "for x=25.84:0.01:154.16 #equivalente ao intervalo do fp\n",
        "idx = idx+1; \n",
        "[X,Y]= pol2cart(x,IR);\n",
        "Z = X + i*Y;\n",
        "VS_rec = ((zl*yl/2)+1)*VR+zl*Z; \n",
        "Vs = [Vs abs(VS_rec)];%módulo tensão Vs\n",
        "    fp =[fp cos(angle(Z))];\n",
        "    if Vs(idx) >= VR*0.999 && Vs(idx)<=VR*1.001&&fp(idx)>0\n",
        "        fp(idx)\n",
        "    end\n",
        "end\n",
        "\n",
        "\n",
        "figure \n",
        "plot(Vs(fp<0),fp(fp<0))\n",
        "title('fp x Vs (atrasado)')\n",
        "xlabel('Vs')\n",
        "\n",
        "\n",
        "figure \n",
        "plot(Vs(fp>0),fp(fp>0))\n",
        "title('fp x Vs (avancado)')\n",
        "xlabel('Vs')\n",
        "\n",
        "\n",
        "\n",
        "\n",
        "\n"
      ],
      "execution_count": 188,
      "outputs": [
        {
          "output_type": "stream",
          "text": [
            "Overwriting add.m\n"
          ],
          "name": "stdout"
        }
      ]
    },
    {
      "cell_type": "code",
      "metadata": {
        "id": "w5xbX3ba9DEZ",
        "outputId": "65a3ea82-cb52-427e-92d1-7c090dd8d830",
        "colab": {
          "base_uri": "https://localhost:8080/",
          "height": 0
        }
      },
      "source": [
        "# -W : no window system\n",
        "!octave -W add.m"
      ],
      "execution_count": 189,
      "outputs": [
        {
          "output_type": "stream",
          "text": [
            "ans =  0.94471\n",
            "ans =  0.94575\n",
            "ans =  0.94457\n",
            "ans =  0.94561\n",
            "ans =  0.94442\n",
            "ans =  0.94547\n",
            "ans =  0.94428\n",
            "ans =  0.94532\n",
            "ans =  0.94413\n",
            "ans =  0.94518\n",
            "ans =  0.94621\n",
            "ans =  0.94503\n",
            "ans =  0.94607\n",
            "ans =  0.94489\n",
            "                                                                               \n",
            "                               fp x Vs (atrasado)                              \n",
            "                                                                               \n",
            "    0 |--------------------------------------------------------------------|   \n",
            "      |    *    +         +         +        +         +         +        *|   \n",
            "      |    *                                                             **|   \n",
            " -0.2 |-+ **                                                             *-|   \n",
            "      |   **                                                            ** |   \n",
            "      |    *                                                           **  |   \n",
            "      |    *                                                           *   |   \n",
            " -0.4 |-+  **                                                         *  +-|   \n",
            "      |     **                                                      ***    |   \n",
            "      |      **                                                    **      |   \n",
            " -0.6 |-+     **                                                  **     +-|   \n",
            "      |        ***                                              ***        |   \n",
            "      |          ***                                          ***          |   \n",
            "      |            ***                                      ***            |   \n",
            " -0.8 |-+            ****                                 ***            +-|   \n",
            "      |                 *****                         *****                |   \n",
            "      |         +         + ******  +        +   ******+         +         |   \n",
            "   -1 |--------------------------------------------------------------------|   \n",
            "   140000    160000    180000    200000   220000    240000    260000    280000 \n",
            "                                       Vs                                      \n",
            "                                                                               \n"
          ],
          "name": "stdout"
        }
      ]
    }
  ]
}