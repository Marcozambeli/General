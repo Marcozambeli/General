{
  "nbformat": 4,
  "nbformat_minor": 0,
  "metadata": {
    "colab": {
      "name": "Exercicio 3 - Transmissao",
      "provenance": [],
      "authorship_tag": "ABX9TyNbZByF+sfNWFHLGWG8BhcS",
      "include_colab_link": true
    },
    "kernelspec": {
      "name": "python3",
      "display_name": "Python 3"
    }
  },
  "cells": [
    {
      "cell_type": "markdown",
      "metadata": {
        "id": "view-in-github",
        "colab_type": "text"
      },
      "source": [
        "<a href=\"https://colab.research.google.com/github/Marcozambeli/General/blob/main/Exercicio_3_Transmissao.ipynb\" target=\"_parent\"><img src=\"https://colab.research.google.com/assets/colab-badge.svg\" alt=\"Open In Colab\"/></a>"
      ]
    },
    {
      "cell_type": "markdown",
      "metadata": {
        "id": "pyhEBemMVIQt"
      },
      "source": [
        "#Exercício 3\n",
        "## Uma carga de 125MVA/215KV é alimentada através de uma LT\n",
        "## média de 100 km cujos parâmetros valem ZL = 194<79ºΩ e YL = j4e-5 Siemens.\n",
        "Marco Antonio de Oliveira Zambeli 201369026c\n",
        "\n",
        "\n",
        "\n"
      ]
    },
    {
      "cell_type": "markdown",
      "metadata": {
        "id": "6nN5I-n64Eap"
      },
      "source": [
        "A) Qual o fator de potência(fp) na carga e qual a potência reativa que deve ser injetada\n",
        "na carga para manter o perfil de tensão igual a 215 KV? VS = VR = 215KV, perfil horizontal de tensão.\n",
        "\n",
        "C) Fazer um gráfico fp x VS. Marque na figura o ponto operativo VS = 215 KV."
      ]
    },
    {
      "cell_type": "code",
      "metadata": {
        "id": "2OmqHamuXzxo"
      },
      "source": [
        "!apt install octave"
      ],
      "execution_count": null,
      "outputs": []
    },
    {
      "cell_type": "code",
      "metadata": {
        "id": "vkVqedaqcNo8",
        "outputId": "23438a0f-40ff-4ef5-a39c-c70fe9fdf5b6",
        "colab": {
          "base_uri": "https://localhost:8080/",
          "height": 0
        }
      },
      "source": [
        "%%writefile add.m\n",
        "\n",
        "\n",
        "clc \n",
        "clear all \n",
        "\n",
        "S = 125e6;  #VA\n",
        "VR = 215e3; #V\n",
        "L = 100;    #km\n",
        "yl = i*4e-5;#Ω \n",
        "zl = 37 + i*190.4;#Ω  \n",
        "Vs = [];\n",
        "fp = []; \n",
        "%a) fp =? \n",
        "\n",
        "IR=S/(VR*sqrt(3));\n",
        "\n",
        "# Corrente Ir vai variar de acordo com o fator de potencia no intervalo (-0.9, 0.9)\n",
        "idx = 0; \n",
        "for x=25.84:0.01:154.16 #equivalente ao intervalo do fp\n",
        "idx = idx+1; \n",
        "[X,Y]= pol2cart(x,IR);\n",
        "Z = X + i*Y;\n",
        "VS_rec = ((zl*yl/2)+1)*VR+zl*Z; \n",
        "Vs = [Vs abs(VS_rec)];%módulo tensão Vs\n",
        "    fp =[fp cos(angle(Z))];\n",
        "    if Vs(idx) >= VR*0.999 && Vs(idx)<=VR*1.001&&fp(idx)>0\n",
        "        fp(idx)\n",
        "    end\n",
        "end\n",
        "\n",
        "\n",
        "figure \n",
        "plot(Vs(fp>0),fp(fp>0))\n",
        "title('fp x Vs (avancado)')\n",
        "xlabel('Vs')\n",
        "\n",
        "\n",
        "\n",
        "\n",
        "\n",
        "\n",
        "\n",
        "\n",
        "\n",
        "\n",
        "\n"
      ],
      "execution_count": 191,
      "outputs": [
        {
          "output_type": "stream",
          "text": [
            "Overwriting add.m\n"
          ],
          "name": "stdout"
        }
      ]
    },
    {
      "cell_type": "code",
      "metadata": {
        "id": "I9zsmrG_cRsj",
        "outputId": "c0e451bc-3923-4e39-9038-e2d5f576522d",
        "colab": {
          "base_uri": "https://localhost:8080/",
          "height": 0
        }
      },
      "source": [
        "# -W : no window system\n",
        "!octave -W add.m"
      ],
      "execution_count": 192,
      "outputs": [
        {
          "output_type": "stream",
          "text": [
            "ans =  0.94471\n",
            "ans =  0.94575\n",
            "ans =  0.94457\n",
            "ans =  0.94561\n",
            "ans =  0.94442\n",
            "ans =  0.94547\n",
            "ans =  0.94428\n",
            "ans =  0.94532\n",
            "ans =  0.94413\n",
            "ans =  0.94518\n",
            "ans =  0.94621\n",
            "ans =  0.94503\n",
            "ans =  0.94607\n",
            "ans =  0.94489\n",
            "                                                                               \n",
            "                               fp x Vs (avancado)                              \n",
            "                                                                               \n",
            "   1 |---------------------------------------------------------------------|   \n",
            "     |         +         +         +    ******         +   ******+         |   \n",
            "     |                             ******                       ***        |   \n",
            " 0.8 |-+                        ****                              ***    +-|   \n",
            "     |                       ****                                   ***    |   \n",
            "     |                     ***                                        **   |   \n",
            "     |                  ****                                           **  |   \n",
            " 0.6 |-+              ***                                               **-|   \n",
            "     |              ***                                                  * |   \n",
            "     |             **                                                    **|   \n",
            " 0.4 |-+         ***                                                     +*|   \n",
            "     |          **                                                        *|   \n",
            "     |        ***                                                         *|   \n",
            "     |       **                                                            |   \n",
            " 0.2 |-+    **                                                           +-|   \n",
            "     |     **                                                              |   \n",
            "     |     *   +         +         +         +         +         +        *|   \n",
            "   0 |---------------------------------------------------------------------|   \n",
            "  140000    160000    180000    200000    220000    240000    260000    280000 \n",
            "                                       Vs                                      \n",
            "                                                                               \n"
          ],
          "name": "stdout"
        }
      ]
    },
    {
      "cell_type": "code",
      "metadata": {
        "id": "u_3pjKBl85VI",
        "outputId": "16bc7b3a-5a78-478f-db07-f5f8864432d2",
        "colab": {
          "base_uri": "https://localhost:8080/",
          "height": 0
        }
      },
      "source": [
        "%%writefile add.m\n",
        "\n",
        "\n",
        "clc \n",
        "clear all \n",
        "\n",
        "S = 125e6;  #VA\n",
        "VR = 215e3; #V\n",
        "L = 100;    #km\n",
        "yl = i*4e-5;#Ω \n",
        "zl = 37 + i*190.4;#Ω  \n",
        "Vs = [];\n",
        "fp = []; \n",
        "%a) fp =? \n",
        "\n",
        "IR=S/(VR*sqrt(3));\n",
        "\n",
        "# Corrente Ir vai variar de acordo com o fator de potencia no intervalo (-0.9, 0.9)\n",
        "idx = 0; \n",
        "for x=25.84:0.01:154.16 #equivalente ao intervalo do fp\n",
        "idx = idx+1; \n",
        "[X,Y]= pol2cart(x,IR);\n",
        "Z = X + i*Y;\n",
        "VS_rec = ((zl*yl/2)+1)*VR+zl*Z; \n",
        "Vs = [Vs abs(VS_rec)];%módulo tensão Vs\n",
        "    fp =[fp cos(angle(Z))];\n",
        "    if Vs(idx) >= VR*0.999 && Vs(idx)<=VR*1.001&&fp(idx)>0\n",
        "        fp(idx)\n",
        "    end\n",
        "end\n",
        "\n",
        "\n",
        "figure \n",
        "plot(Vs(fp<0),fp(fp<0))\n",
        "title('fp x Vs (atrasado)')\n",
        "xlabel('Vs')\n",
        "\n",
        "\n",
        "\n",
        "\n",
        "\n",
        "\n",
        "\n",
        "\n",
        "\n"
      ],
      "execution_count": 195,
      "outputs": [
        {
          "output_type": "stream",
          "text": [
            "Overwriting add.m\n"
          ],
          "name": "stdout"
        }
      ]
    },
    {
      "cell_type": "code",
      "metadata": {
        "id": "w5xbX3ba9DEZ",
        "outputId": "94c304af-3c76-4c68-da55-8e97ab2412ba",
        "colab": {
          "base_uri": "https://localhost:8080/",
          "height": 0
        }
      },
      "source": [
        "# -W : no window system\n",
        "!octave -W add.m"
      ],
      "execution_count": 196,
      "outputs": [
        {
          "output_type": "stream",
          "text": [
            "ans =  0.94471\n",
            "ans =  0.94575\n",
            "ans =  0.94457\n",
            "ans =  0.94561\n",
            "ans =  0.94442\n",
            "ans =  0.94547\n",
            "ans =  0.94428\n",
            "ans =  0.94532\n",
            "ans =  0.94413\n",
            "ans =  0.94518\n",
            "ans =  0.94621\n",
            "ans =  0.94503\n",
            "ans =  0.94607\n",
            "ans =  0.94489\n",
            "                                                                               \n",
            "                               fp x Vs (atrasado)                              \n",
            "                                                                               \n",
            "    0 |--------------------------------------------------------------------|   \n",
            "      |    *    +         +         +        +         +         +        *|   \n",
            "      |    *                                                             **|   \n",
            " -0.2 |-+ **                                                             *-|   \n",
            "      |   **                                                            ** |   \n",
            "      |    *                                                           **  |   \n",
            "      |    *                                                           *   |   \n",
            " -0.4 |-+  **                                                         *  +-|   \n",
            "      |     **                                                      ***    |   \n",
            "      |      **                                                    **      |   \n",
            " -0.6 |-+     **                                                  **     +-|   \n",
            "      |        ***                                              ***        |   \n",
            "      |          ***                                          ***          |   \n",
            "      |            ***                                      ***            |   \n",
            " -0.8 |-+            ****                                 ***            +-|   \n",
            "      |                 *****                         *****                |   \n",
            "      |         +         + ******  +        +   ******+         +         |   \n",
            "   -1 |--------------------------------------------------------------------|   \n",
            "   140000    160000    180000    200000   220000    240000    260000    280000 \n",
            "                                       Vs                                      \n",
            "                                                                               \n"
          ],
          "name": "stdout"
        }
      ]
    },
    {
      "cell_type": "markdown",
      "metadata": {
        "id": "gWkysGxP_2Kx"
      },
      "source": [
        "#B) Considerando um custo de 50$/KVAr, avaliar o custo do compensador.\n",
        "\n",
        "\n",
        "\n",
        "*  para o fp = 0,94 \n",
        "*  Q3=3Vr.Ir*.sin(alpha)\n",
        "*  Q3=3.(215e3/sqrt(3)).335,6.sin(-19,94) = -42,6Mvar\n",
        "*  Custo do compensador: U$ 2.131.000,00\n",
        "\n",
        "\n",
        "\n",
        "\n"
      ]
    },
    {
      "cell_type": "code",
      "metadata": {
        "id": "u3_uQX8UABtr"
      },
      "source": [
        "\n",
        "\n"
      ],
      "execution_count": null,
      "outputs": []
    }
  ]
}