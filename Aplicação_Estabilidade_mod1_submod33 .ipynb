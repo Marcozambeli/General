{
  "nbformat": 4,
  "nbformat_minor": 0,
  "metadata": {
    "colab": {
      "name": "octave minimal.ipynb",
      "provenance": [],
      "collapsed_sections": [],
      "include_colab_link": true
    },
    "kernelspec": {
      "name": "python3",
      "display_name": "Python 3"
    }
  },
  "cells": [
    {
      "cell_type": "markdown",
      "metadata": {
        "id": "view-in-github",
        "colab_type": "text"
      },
      "source": [
        "<a href=\"https://colab.research.google.com/github/Marcozambeli/General/blob/main/Aplica%C3%A7%C3%A3o_Estabilidade_mod1_submod33%20.ipynb\" target=\"_parent\"><img src=\"https://colab.research.google.com/assets/colab-badge.svg\" alt=\"Open In Colab\"/></a>"
      ]
    },
    {
      "cell_type": "code",
      "metadata": {
        "id": "_dca6992Zfrg"
      },
      "source": [
        "!apt install octave"
      ],
      "execution_count": null,
      "outputs": []
    },
    {
      "cell_type": "code",
      "metadata": {
        "id": "poFRb32bZk1J",
        "colab": {
          "base_uri": "https://localhost:8080/",
          "height": 130
        },
        "outputId": "62e55768-aa90-470b-c0b0-3ba1f3ba95f3"
      },
      "source": [
        "\n",
        "% Parametros − Angra 2\n",
        "H = 4.51;\n",
        "D = 0;\n",
        "Xd = 1.60;\n",
        "Xq = 1.52;\n",
        "Xdq = Xd-Xq\n",
        "X1d = 0.469;\n",
        "X1q = 0.875;\n",
        "Vt = 1.0;\n",
        "Pt = 0.90;\n",
        "Qt = 0.45;\n",
        "wb = 2*pi*60;\n",
        "% Cálculo da corrente de armadura (reg. permanente)\n",
        "St = Pt + 1j*Qt;\n",
        "Ia = conj(St/Vt);\n",
        "% Cálculo de delta inicial (reg. permanente)\n",
        "Eq = Vt + 1j*Xq*Ia;\n",
        "d0 = angle(Eq);\n",
        "% Cálculo das correntes Id e Iq (reg. permanente)\n",
        "Iqd = Ia*math.exp(-1j*d0);\n",
        "Iq = real(Iqd);\n",
        "Id = imag(Iqd);\n",
        "% Cálculo da tensão interna (reg. permanente)\n",
        "Ea = real(Eq * math.exp(-1j*d0))- (Xdq*Id)\n",
        "\n",
        "\n",
        "% Cálculo das tensões transitórias (constantes no transitório)\n",
        "E1d = (-Xq + X1q)*Iq;\n",
        "E1q = Ea + Xd*Id - X1d*Id\n",
        "% Potência transitória\n",
        "Pe_tran = @(delta) Vt * E1d / X1q*cos(delta) + Vt*E1q/X1d*sin(delta)\n",
        "− Vt^2/2*(1/X1d − 1/X1q)*sin(2*delta);\n",
        "% Potência mecãnica\n",
        "Pm = Pe_tran(d0);\n",
        "\n",
        "% Potência Elétrica (variável devido ao curto)\n",
        "tc = 0.1;\n",
        "function y = fault(t, tc)\n",
        "if (t < tc)\n",
        "y = 0;\n",
        "else\n",
        "y = 1;\n",
        "end\n",
        "end\n",
        "Pe_t = @(delta, t) fault(t, tc)*Pe_tran(delta)\n",
        "% Derivadas: delta −> x(1), omega −> x(2)\n",
        "xdot = @(t, x) [wb*x(2);\n",
        "(Pm − Pe_t(x(1), t) − D*x(2))/2/H];\n",
        "% Simulação do sistema no tempo\n",
        "x0 = [d0;0]; % Condição inicial de x\n",
        "T = [0:1e−4:3]; % Vetor de tempo\n",
        "[T, X] = ode45(xdot, T, x0); % Integração numérica\n",
        "% Gráficos das variáveis de estado no tempo\n",
        "subplot(211);\n",
        "plot(T, X(:,1));\n",
        "ylabel('\\delta [rad]');\n",
        "xlabel('tempo [s]');\n",
        "grid('on');\n",
        "subplot(212);\n",
        "plot(T, X(:,2));\n",
        "ylabel('\\omega [pu]');\n",
        "xlabel('tempo [s]');\n",
        "grid('on');\n",
        "% Plano de fases\n",
        "figure(2);\n",
        "plot(X(:,1), X(:,2));\n",
        "ylabel('\\omega [pu]');\n",
        "xlabel('\\delta [rad]');\n",
        "grid('on');\n",
        "\n",
        "M. A. Tomim (UFJF) ENE057 - Estabilidade em SEPs 15 / 21\n",
        "\n",
        "Modelo da Máquina contra Barra Infinita"
      ],
      "execution_count": 38,
      "outputs": [
        {
          "output_type": "error",
          "ename": "SyntaxError",
          "evalue": "ignored",
          "traceback": [
            "\u001b[0;36m  File \u001b[0;32m\"<ipython-input-38-e33309146454>\"\u001b[0;36m, line \u001b[0;32m32\u001b[0m\n\u001b[0;31m    Pe_tran = @(delta) Vt * E1d / X1q*cos(delta) + Vt*E1q/X1d*sin(delta)\u001b[0m\n\u001b[0m              ^\u001b[0m\n\u001b[0;31mSyntaxError\u001b[0m\u001b[0;31m:\u001b[0m invalid syntax\n"
          ]
        }
      ]
    },
    {
      "cell_type": "code",
      "metadata": {
        "id": "7o_LGZZiZrDD",
        "colab": {
          "base_uri": "https://localhost:8080/",
          "height": 70
        },
        "outputId": "13976f78-95d6-497a-8e86-77de17120b4d"
      },
      "source": [
        "# -W : no window system\n",
        "!octave -W add.m"
      ],
      "execution_count": null,
      "outputs": [
        {
          "output_type": "stream",
          "text": [
            "x =  1\n",
            "y =  2\n",
            " 3\n"
          ],
          "name": "stdout"
        }
      ]
    },
    {
      "cell_type": "code",
      "metadata": {
        "id": "4cg5Y8WTZuNd"
      },
      "source": [
        ""
      ],
      "execution_count": null,
      "outputs": []
    }
  ]
}